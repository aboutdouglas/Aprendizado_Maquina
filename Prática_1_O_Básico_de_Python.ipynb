{
  "nbformat": 4,
  "nbformat_minor": 0,
  "metadata": {
    "colab": {
      "name": "Prática 1 - O Básico de Python.ipynb",
      "provenance": [],
      "authorship_tag": "ABX9TyONCV11Ne+nb65qeqBnG7SJ",
      "include_colab_link": true
    },
    "kernelspec": {
      "name": "python3",
      "display_name": "Python 3"
    },
    "language_info": {
      "name": "python"
    },
    "accelerator": "GPU"
  },
  "cells": [
    {
      "cell_type": "markdown",
      "metadata": {
        "id": "view-in-github",
        "colab_type": "text"
      },
      "source": [
        "<a href=\"https://colab.research.google.com/github/aboutdouglas/Aprendizado_Maquina/blob/main/Pr%C3%A1tica_1_O_B%C3%A1sico_de_Python.ipynb\" target=\"_parent\"><img src=\"https://colab.research.google.com/assets/colab-badge.svg\" alt=\"Open In Colab\"/></a>"
      ]
    },
    {
      "cell_type": "code",
      "execution_count": 1,
      "metadata": {
        "colab": {
          "base_uri": "https://localhost:8080/"
        },
        "id": "B2KP3fvOYgqC",
        "outputId": "6d2a1bd1-b85a-4ddc-d3aa-6316a58ae630"
      },
      "outputs": [
        {
          "output_type": "stream",
          "name": "stdout",
          "text": [
            "Digite o valor de seu Salário Bruto: R$1000\n",
            "Seu Salário Líquido é: R$ 760.0\n"
          ]
        }
      ],
      "source": [
        "1# Exercicio 1\n",
        "a = int(input(\"Digite o valor de seu Salário Bruto: R$\"))\n",
        "IR = a * 11 / 100\n",
        "INSS = a * 8 / 100\n",
        "Sindicato = a * 5 / 100\n",
        "Descontos = IR + INSS + Sindicato\n",
        "Liquido = a - Descontos\n",
        "print(\"Seu Salário Líquido é: R$\", Liquido)"
      ]
    },
    {
      "cell_type": "code",
      "source": [
        "# Exercício 2\n",
        "ga = int(input(\"Informe a nota do Grau A: \"))\n",
        "gb = int(input(\"Informe a nota do Grau B: \"))\n",
        "media = (ga + gb) / 2\n",
        "print(\"A Média do aluno é: \", media)\n",
        "\n",
        "if media >= 9:\n",
        "     print('Nota A')\n",
        "elif media >= 7.5 and media < 9:\n",
        "     print('Nota B')\n",
        "elif media >= 6 and media < 7.5:\n",
        "     print('Nota C')\n",
        "elif media >= 4 and media <= 6:\n",
        "     print('Nota D')\n",
        "else:\n",
        "     print('Nota E')"
      ],
      "metadata": {
        "colab": {
          "base_uri": "https://localhost:8080/"
        },
        "id": "WqO-1u-bijrC",
        "outputId": "5ea9e57d-8f96-4f4b-e10d-f76a9f7e6e19"
      },
      "execution_count": 2,
      "outputs": [
        {
          "output_type": "stream",
          "name": "stdout",
          "text": [
            "Informe a nota do Grau A: 10\n",
            "Informe a nota do Grau B: 0\n",
            "A Média do aluno é:  5.0\n",
            "Nota D\n"
          ]
        }
      ]
    },
    {
      "cell_type": "code",
      "source": [
        "# Exercício 3\n",
        "x = int(input(\"Informe o valor que você deseja saber a tabuada: \"))\n",
        "for i in range(1, 11):\n",
        "     print(x*i)"
      ],
      "metadata": {
        "colab": {
          "base_uri": "https://localhost:8080/"
        },
        "id": "fMro3qL7pFX6",
        "outputId": "f3f31146-580e-4429-bfe2-7903068882dc"
      },
      "execution_count": 3,
      "outputs": [
        {
          "output_type": "stream",
          "name": "stdout",
          "text": [
            "Informe o valor que você deseja saber a tabuada: 50\n",
            "50\n",
            "100\n",
            "150\n",
            "200\n",
            "250\n",
            "300\n",
            "350\n",
            "400\n",
            "450\n",
            "500\n"
          ]
        }
      ]
    },
    {
      "cell_type": "code",
      "source": [
        "# Exercício 4\n",
        "usuario = input(\"Informe o usuário: \")\n",
        "senha = input(\"Informe a senha: \")\n",
        "while usuario == senha:\n",
        "    print(\"Nome do Usuário não pode ser igual a Senha\")\n",
        "    break\n",
        "else:\n",
        "   print(\"Usuário Criado\")"
      ],
      "metadata": {
        "colab": {
          "base_uri": "https://localhost:8080/"
        },
        "id": "KacpmIdWNi-0",
        "outputId": "b4e2fea2-b47a-46c1-dc34-7a5aa944a5b3"
      },
      "execution_count": 4,
      "outputs": [
        {
          "output_type": "stream",
          "name": "stdout",
          "text": [
            "Informe o usuário: dsilva\n",
            "Informe a senha: douglas95\n",
            "Usuário Criado\n"
          ]
        }
      ]
    },
    {
      "cell_type": "code",
      "source": [
        "# Exercício 5\n",
        "uma_lista = [1, 2, 3, 4, 5, 6, 7, 8, 9, 10]\n",
        "nova_lista = list(reversed(uma_lista))\n",
        "print(nova_lista)\n",
        "\n"
      ],
      "metadata": {
        "colab": {
          "base_uri": "https://localhost:8080/"
        },
        "id": "ye0F8EeCPQOD",
        "outputId": "7fe121f9-09fd-485f-ba57-d9302c920046"
      },
      "execution_count": 5,
      "outputs": [
        {
          "output_type": "stream",
          "name": "stdout",
          "text": [
            "[10, 9, 8, 7, 6, 5, 4, 3, 2, 1]\n"
          ]
        }
      ]
    },
    {
      "cell_type": "code",
      "source": [
        "# Exercício 6\n",
        "cliente = [\"Fernanda\", \"Montenegro\", 1929, \"Central do Brasil\", 1998, \"Atriz\", \"Rio de Janeiro, RJ\"]\n",
        "cliente.append(input(\"Informe a próxima Informação: \"))\n",
        "while \"fim\" not in cliente:\n",
        "    print(cliente)\n",
        "    cliente.append(input(\"Informe a próxima Informação: \"))\n",
        "else:\n",
        "    print(\"fim\")\n",
        "    \n"
      ],
      "metadata": {
        "colab": {
          "base_uri": "https://localhost:8080/"
        },
        "id": "8r2azMjyaGKW",
        "outputId": "3db9a9cd-5df2-4d12-8301-56a2fb77ae34"
      },
      "execution_count": 6,
      "outputs": [
        {
          "output_type": "stream",
          "name": "stdout",
          "text": [
            "Informe a próxima Informação: velha\n",
            "['Fernanda', 'Montenegro', 1929, 'Central do Brasil', 1998, 'Atriz', 'Rio de Janeiro, RJ', 'velha']\n",
            "Informe a próxima Informação: \n",
            "['Fernanda', 'Montenegro', 1929, 'Central do Brasil', 1998, 'Atriz', 'Rio de Janeiro, RJ', 'velha', '']\n",
            "Informe a próxima Informação: \n",
            "['Fernanda', 'Montenegro', 1929, 'Central do Brasil', 1998, 'Atriz', 'Rio de Janeiro, RJ', 'velha', '', '']\n",
            "Informe a próxima Informação: fim\n",
            "fim\n"
          ]
        }
      ]
    },
    {
      "cell_type": "code",
      "source": [
        "# Exercício 7\n",
        "def somaImposto(taxaImpostoVendas=0, custo=0):\n",
        " custo = int(input(\"Informe o valor do produto: R$\"))\n",
        " taxaImpostoVendas = int(input(\"Informe a % de imposto: %\"))\n",
        " nota = custo + (custo * taxaImpostoVendas / 100)\n",
        " print(\"O valor da nota é: R$\", nota)\n",
        " \n",
        "somaImposto()"
      ],
      "metadata": {
        "colab": {
          "base_uri": "https://localhost:8080/"
        },
        "id": "dQRErOvKgp07",
        "outputId": "4b8a9073-35b0-4404-c68c-7224de945104"
      },
      "execution_count": 7,
      "outputs": [
        {
          "output_type": "stream",
          "name": "stdout",
          "text": [
            "Informe o valor do produto: R$100\n",
            "Informe a % de imposto: %2\n",
            "O valor da nota é: R$ 102.0\n"
          ]
        }
      ]
    },
    {
      "cell_type": "code",
      "source": [
        "# Exercício 8\n",
        "palavra1 = input('String 1: ')\n",
        "palavra2 = input('String 2: ')\n",
        "\n",
        "print('Tamanho de \"%s\": %d ' % (palavra1, len(palavra1)))\n",
        "print('Tamanho de \"%s\": %d ' % (palavra2, len(palavra2)))\n",
        "if len(palavra1) == len(palavra2):\n",
        "    print(\"Strings são de tamanhos iguais\")\n",
        "else:\n",
        "  print(\"Strings são de tamanhos diferentes\")\n",
        "if palavra1 == palavra2:\n",
        "  print(\"Strings são iguais\")\n",
        "else:\n",
        "  print(\"Strings são diferentes\")"
      ],
      "metadata": {
        "colab": {
          "base_uri": "https://localhost:8080/"
        },
        "id": "P1AT1wy7YlBZ",
        "outputId": "7ab9cbfe-890c-43d8-8423-aa6be24ce2cd"
      },
      "execution_count": 8,
      "outputs": [
        {
          "output_type": "stream",
          "name": "stdout",
          "text": [
            "String 1: d\n",
            "String 2: ds\n",
            "Tamanho de \"d\": 1 \n",
            "Tamanho de \"ds\": 2 \n",
            "Strings são de tamanhos diferentes\n",
            "Strings são diferentes\n"
          ]
        }
      ]
    },
    {
      "cell_type": "code",
      "source": [
        "# Exercício 9\n",
        "nome = input(\"Digite o seu nome: \")\n",
        "nomeMaiusculo = nome.upper()\n",
        "nomeInvertido = nomeMaiusculo[::-1]\n",
        "print(nomeMaiusculo)\n",
        "print(nomeInvertido)\n"
      ],
      "metadata": {
        "colab": {
          "base_uri": "https://localhost:8080/"
        },
        "id": "WoWJXsmGac_8",
        "outputId": "529fbf4c-f770-4c1a-878e-a8fa56a23be8"
      },
      "execution_count": 9,
      "outputs": [
        {
          "output_type": "stream",
          "name": "stdout",
          "text": [
            "Digite o seu nome: douglas\n",
            "DOUGLAS\n",
            "SALGUOD\n"
          ]
        }
      ]
    }
  ]
}