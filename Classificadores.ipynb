{
  "nbformat": 4,
  "nbformat_minor": 0,
  "metadata": {
    "colab": {
      "name": "Classificadores.ipynb",
      "provenance": [],
      "authorship_tag": "ABX9TyOgK9/OS3FwrtuCpkJNZBUb",
      "include_colab_link": true
    },
    "kernelspec": {
      "name": "python3",
      "display_name": "Python 3"
    },
    "language_info": {
      "name": "python"
    }
  },
  "cells": [
    {
      "cell_type": "markdown",
      "metadata": {
        "id": "view-in-github",
        "colab_type": "text"
      },
      "source": [
        "<a href=\"https://colab.research.google.com/github/aboutdouglas/Aprendizado_Maquina/blob/main/Classificadores.ipynb\" target=\"_parent\"><img src=\"https://colab.research.google.com/assets/colab-badge.svg\" alt=\"Open In Colab\"/></a>"
      ]
    },
    {
      "cell_type": "markdown",
      "source": [
        "Árvore de Decisão"
      ],
      "metadata": {
        "id": "WlGIYPH2lvT3"
      }
    },
    {
      "cell_type": "code",
      "execution_count": 1,
      "metadata": {
        "id": "lv5lI94BkTga"
      },
      "outputs": [],
      "source": [
        "# importando as bibliotecas\n",
        "from sklearn.datasets import load_iris\n",
        "from sklearn.model_selection import train_test_split\n",
        "\n",
        "# importando o modelo árvore de decisão\n",
        "from sklearn.tree import DecisionTreeClassifier\n",
        "\n",
        "# carregando os dados\n",
        "X, y = load_iris(return_X_y=True)\n",
        "\n",
        "# separando a base de treinamento da validação\n",
        "X_train, X_test, y_train, y_test = train_test_split(X, y, test_size=0.5, random_state=0)\n",
        "\n",
        "# criando o classificador\n",
        "dtc = DecisionTreeClassifier()\n",
        "\n",
        "# treinando o classificador\n",
        "dtc.fit(X_train, y_train)\n",
        "\n",
        "# realizando as previsões\n",
        "y_pred = dtc.predict(X)"
      ]
    },
    {
      "cell_type": "markdown",
      "source": [
        "Naive Bayes"
      ],
      "metadata": {
        "id": "JNopUOmUl0Rj"
      }
    },
    {
      "cell_type": "code",
      "source": [
        "# Importando o modelo Naive Bayes\n",
        "from sklearn.naive_bayes import GaussianNB\n",
        "\n",
        "# Carregando os dados\n",
        "X, y = load_iris(return_X_y=True)\n",
        "\n",
        "# Separando a base de treino da validação\n",
        "X_train, X_test, y_train, y_test = train_test_split(X,y,test_size=0.5, random_state=0)\n",
        "\n",
        "# Criando classificadores\n",
        "gnb = GaussianNB()\n",
        "\n",
        "# Treinando o classificador\n",
        "gnb.fit(X_train, y_train)\n",
        "\n",
        "# Realizando as previsões\n",
        "y_pred = gnb.predict(X)"
      ],
      "metadata": {
        "id": "lSw6E-26lgIt"
      },
      "execution_count": 2,
      "outputs": []
    },
    {
      "cell_type": "markdown",
      "source": [
        "Máquinas de Vetores de Suporte"
      ],
      "metadata": {
        "id": "h6dkzsKKl41H"
      }
    },
    {
      "cell_type": "code",
      "source": [
        "from sklearn.svm import SVC\n",
        "\n",
        "X, y = load_iris(return_X_y=True)\n",
        "X_train, X_test, y_train, y_test = train_test_split(X, y, test_size=0.33)\n",
        "\n",
        "clf = SVC(kernel='linear', C=1.0)\n",
        "clf.fit(X_train, y_train)\n",
        "pred = clf.predict(X)"
      ],
      "metadata": {
        "id": "5KBZYvHAloLw"
      },
      "execution_count": 3,
      "outputs": []
    },
    {
      "cell_type": "markdown",
      "source": [
        "Regressão Logística"
      ],
      "metadata": {
        "id": "2L1qN5nDmCVW"
      }
    },
    {
      "cell_type": "code",
      "source": [
        "from sklearn.linear_model import LogisticRegression\n",
        "X, y = load_iris(return_X_y=True)\n",
        "X_train, X_test, y_train, y_test = train_test_split(X, y, test_size=0.33)\n",
        "\n",
        "lr = LogisticRegression()\n",
        "lr.fit(X_train, y_train)\n",
        "y_pred = lr.predict(X)"
      ],
      "metadata": {
        "colab": {
          "base_uri": "https://localhost:8080/"
        },
        "id": "EbALIRC_mBJ5",
        "outputId": "81c698eb-0eaf-462d-b912-58fd34ac48b0"
      },
      "execution_count": 5,
      "outputs": [
        {
          "output_type": "stream",
          "name": "stderr",
          "text": [
            "/usr/local/lib/python3.7/dist-packages/sklearn/linear_model/_logistic.py:818: ConvergenceWarning: lbfgs failed to converge (status=1):\n",
            "STOP: TOTAL NO. of ITERATIONS REACHED LIMIT.\n",
            "\n",
            "Increase the number of iterations (max_iter) or scale the data as shown in:\n",
            "    https://scikit-learn.org/stable/modules/preprocessing.html\n",
            "Please also refer to the documentation for alternative solver options:\n",
            "    https://scikit-learn.org/stable/modules/linear_model.html#logistic-regression\n",
            "  extra_warning_msg=_LOGISTIC_SOLVER_CONVERGENCE_MSG,\n"
          ]
        }
      ]
    }
  ]
}